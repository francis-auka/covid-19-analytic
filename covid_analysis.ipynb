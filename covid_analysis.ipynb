{
 "cells": [
  {
   "cell_type": "markdown",
   "id": "a6e52fc5",
   "metadata": {},
   "source": [
    "# 📊 COVID-19 Data Analysis\n",
    "\n",
    "This notebook covers:\n",
    "\n",
    "- Data Loading & Exploration\n",
    "- Data Cleaning\n",
    "- Exploratory Data Analysis (EDA)\n",
    "- Vaccination Analysis\n",
    "- (Optional) Choropleth Map\n",
    "- Key Insights"
   ]
  },
  {
   "cell_type": "markdown",
   "id": "00e67db2",
   "metadata": {},
   "source": [
    "## 2️⃣ Data Loading & Exploration"
   ]
  },
  {
   "cell_type": "code",
   "execution_count": null,
   "id": "323ce5c3",
   "metadata": {},
   "outputs": [],
   "source": [
    "# Load CSV after manually downloading from Kaggle\n",
    "# Place the file in the same directory as this notebook\n",
    "\n",
    "import pandas as pd\n",
    "\n",
    "file_path = \"owid-covid-data.csv\"  # Update to match the exact name you downloaded\n",
    "df = pd.read_csv(file_path)\n",
    "\n",
    "# Display columns\n",
    "print(df.columns)\n",
    "\n",
    "# Preview rows\n",
    "print(df.head())\n",
    "\n",
    "# Check for missing values\n",
    "print(df.isnull().sum())"
   ]
  },
  {
   "cell_type": "markdown",
   "id": "7933d37b",
   "metadata": {},
   "source": [
    "## 3️⃣ Data Cleaning"
   ]
  },
  {
   "cell_type": "code",
   "execution_count": null,
   "id": "94b071a1",
   "metadata": {},
   "outputs": [],
   "source": [
    "# Filter countries of interest\n",
    "countries = [\"Kenya\", \"United States\", \"India\"]\n",
    "df_countries = df[df[\"location\"].isin(countries)]\n",
    "\n",
    "# Drop rows with missing critical values\n",
    "df_countries_cleaned = df_countries.dropna(subset=[\"date\", \"total_cases\", \"total_deaths\", \"new_cases\", \"new_deaths\"])\n",
    "\n",
    "# Convert date column to datetime\n",
    "df_countries_cleaned[\"date\"] = pd.to_datetime(df_countries_cleaned[\"date\"])\n",
    "\n",
    "# Interpolate missing numeric values\n",
    "numeric_cols = df_countries_cleaned.select_dtypes(include=\"number\").columns\n",
    "df_countries_cleaned[numeric_cols] = df_countries_cleaned[numeric_cols].interpolate()\n",
    "\n",
    "# Calculate death rate\n",
    "df_countries_cleaned[\"death_rate\"] = df_countries_cleaned[\"total_deaths\"] / df_countries_cleaned[\"total_cases\"]"
   ]
  },
  {
   "cell_type": "markdown",
   "id": "ead57f48",
   "metadata": {},
   "source": [
    "## 4️⃣ Exploratory Data Analysis (EDA)"
   ]
  },
  {
   "cell_type": "code",
   "execution_count": null,
   "id": "a4001d8a",
   "metadata": {},
   "outputs": [],
   "source": [
    "import matplotlib.pyplot as plt\n",
    "import seaborn as sns\n",
    "\n",
    "sns.set(style=\"whitegrid\")\n",
    "\n",
    "# Plot total cases over time\n",
    "plt.figure(figsize=(12, 6))\n",
    "for country in countries:\n",
    "    subset = df_countries_cleaned[df_countries_cleaned[\"location\"] == country]\n",
    "    plt.plot(subset[\"date\"], subset[\"total_cases\"], label=country)\n",
    "\n",
    "plt.title(\"Total COVID-19 Cases Over Time\")\n",
    "plt.xlabel(\"Date\")\n",
    "plt.ylabel(\"Total Cases\")\n",
    "plt.legend()\n",
    "plt.tight_layout()\n",
    "plt.show()"
   ]
  }
 ],
 "metadata": {
  "language_info": {
   "name": "python"
  }
 },
 "nbformat": 4,
 "nbformat_minor": 5
}
